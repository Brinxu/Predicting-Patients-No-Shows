{
 "cells": [
  {
   "cell_type": "markdown",
   "id": "2ea4547f",
   "metadata": {},
   "source": [
    "# Capstone Project: Predicting Patient No-Shows"
   ]
  },
  {
   "cell_type": "markdown",
   "id": "c9d0bba5",
   "metadata": {},
   "source": [
    "## Introduction\n",
    "\n",
    "- In this project, I investigate a data set of appointment records in public hospitals in Vitoria, Espirito Santo, Brazil. The data The data is available to be downloaded from Kaggle (Link: https://www.kaggle.com/joniarroba/noshowappointments). It includes whether the patient showed up to the appointment, which is the main focus, as well as other attributes of the patient and the appointment. My main question is: how likely is a patient with certain attributes, to show up to his hospital appointment?\n",
    "\n",
    "\n",
    "- To answer this question, I first do clean the data and explore exploratory analysis. I then train classification models using DecisionTree, a RandomForest, a linear SVM, an SVM with a radial basis kernel, AdaBoost. Finally, I resemble and blend models to predict the target variable. By comparing models performance, I identify the best model in predicting patient no-shows."
   ]
  },
  {
   "cell_type": "markdown",
   "id": "6769c4f6",
   "metadata": {},
   "source": [
    "## Metrics\n",
    "\n",
    "- In many applications, a good ranking is an important performance for a classifier. There are two commonly used criteria, AUC and accuracy. Before getting into analysis part, I'd like to discuss both measurements below. \n",
    "\n",
    "\n",
    "- **AUC**.It stands for the area under the ROC curve (AUC). The ROC curve for a binary classification problem plots the true positive rate as a function of the false-positive rate. The points of the curve are obtained by sweeping the classification threshold from the most positive classification value to the most negative. The higher the AUC, the better chance that we get true positives against false positives. \n",
    "\n",
    "\n",
    "- **Accuracy**. It is calculated by dividing the sum of true positives and true negatives with dataset size. \n",
    "\n",
    "\n",
    "- As we can see, which measures to use depends on what matters the most to an analyst. In our cases, false negatives result in a longer delay in responding to patients' no-shows, whereas false positives result in overreacting to no-shows situations. Both are scenarios that we seek to prevent. Thus, I decided to take both into account while measuring model performance. "
   ]
  },
  {
   "cell_type": "markdown",
   "id": "64286d8a",
   "metadata": {},
   "source": [
    "## Part I: Dataset Loading & Pre-processing\n",
    "\n",
    "- I start with reading the data set, checked out for the outliers and the missing values in our data set."
   ]
  },
  {
   "cell_type": "code",
   "execution_count": 1,
   "id": "0adf94e0",
   "metadata": {},
   "outputs": [
    {
     "name": "stdout",
     "output_type": "stream",
     "text": [
      "Requirement already satisfied: xgboost in /Users/brinxu/opt/anaconda3/lib/python3.8/site-packages (1.5.1)\n",
      "Requirement already satisfied: numpy in /Users/brinxu/opt/anaconda3/lib/python3.8/site-packages (from xgboost) (1.20.1)\n",
      "Requirement already satisfied: scipy in /Users/brinxu/opt/anaconda3/lib/python3.8/site-packages (from xgboost) (1.6.2)\n",
      "Requirement already satisfied: sklearn_pipeline_utils in /Users/brinxu/opt/anaconda3/lib/python3.8/site-packages (0.11)\n",
      "Requirement already satisfied: sklearn_pandas in /Users/brinxu/opt/anaconda3/lib/python3.8/site-packages (2.2.0)\n",
      "Requirement already satisfied: pandas>=1.1.4 in /Users/brinxu/opt/anaconda3/lib/python3.8/site-packages (from sklearn_pandas) (1.2.4)\n",
      "Requirement already satisfied: scikit-learn>=0.23.0 in /Users/brinxu/opt/anaconda3/lib/python3.8/site-packages (from sklearn_pandas) (0.24.1)\n",
      "Requirement already satisfied: scipy>=1.5.1 in /Users/brinxu/opt/anaconda3/lib/python3.8/site-packages (from sklearn_pandas) (1.6.2)\n",
      "Requirement already satisfied: numpy>=1.18.1 in /Users/brinxu/opt/anaconda3/lib/python3.8/site-packages (from sklearn_pandas) (1.20.1)\n",
      "Requirement already satisfied: python-dateutil>=2.7.3 in /Users/brinxu/opt/anaconda3/lib/python3.8/site-packages (from pandas>=1.1.4->sklearn_pandas) (2.8.1)\n",
      "Requirement already satisfied: pytz>=2017.3 in /Users/brinxu/opt/anaconda3/lib/python3.8/site-packages (from pandas>=1.1.4->sklearn_pandas) (2021.1)\n",
      "Requirement already satisfied: joblib>=0.11 in /Users/brinxu/opt/anaconda3/lib/python3.8/site-packages (from scikit-learn>=0.23.0->sklearn_pandas) (1.0.1)\n",
      "Requirement already satisfied: threadpoolctl>=2.0.0 in /Users/brinxu/opt/anaconda3/lib/python3.8/site-packages (from scikit-learn>=0.23.0->sklearn_pandas) (2.1.0)\n",
      "Requirement already satisfied: six>=1.5 in /Users/brinxu/opt/anaconda3/lib/python3.8/site-packages (from python-dateutil>=2.7.3->pandas>=1.1.4->sklearn_pandas) (1.15.0)\n"
     ]
    }
   ],
   "source": [
    "# Import library\n",
    "\n",
    "import pandas as pd\n",
    "import numpy as np\n",
    "import warnings\n",
    "import numpy as np\n",
    "import seaborn as sns\n",
    "import matplotlib.pyplot as plt\n",
    "import warnings ## To ignore the warnings\n",
    "\n",
    "from numpy import hstack\n",
    "\n",
    "from sklearn.pipeline import Pipeline, make_pipeline\n",
    "from sklearn.pipeline import FeatureUnion, make_union\n",
    "from sklearn.model_selection import KFold\n",
    "from sklearn.model_selection import StratifiedShuffleSplit\n",
    "from sklearn.model_selection import RepeatedStratifiedKFold\n",
    "from sklearn.model_selection import GridSearchCV\n",
    "from sklearn.model_selection import train_test_split\n",
    "from sklearn.linear_model import LogisticRegression\n",
    "from sklearn.preprocessing import FunctionTransformer\n",
    "from sklearn.preprocessing import LabelBinarizer, OneHotEncoder,LabelEncoder\n",
    "from sklearn.base import BaseEstimator, TransformerMixin\n",
    "from sklearn_pandas import DataFrameMapper\n",
    "from sklearn_pandas import gen_features\n",
    "from sklearn.metrics import accuracy_score,roc_auc_score\n",
    "from sklearn.metrics import classification_report,confusion_matrix\n",
    "from sklearn.tree import DecisionTreeClassifier\n",
    "from sklearn.ensemble import RandomForestClassifier\n",
    "from sklearn.ensemble import AdaBoostClassifier\n",
    "from sklearn.svm import LinearSVC\n",
    "from sklearn.svm import SVC\n",
    "\n",
    "!pip install xgboost\n",
    "!pip install sklearn_pipeline_utils\n",
    "!pip install sklearn_pandas\n",
    "\n",
    "warnings.filterwarnings('ignore')"
   ]
  },
  {
   "cell_type": "code",
   "execution_count": 2,
   "id": "350e72d1",
   "metadata": {},
   "outputs": [
    {
     "data": {
      "text/html": [
       "<div>\n",
       "<style scoped>\n",
       "    .dataframe tbody tr th:only-of-type {\n",
       "        vertical-align: middle;\n",
       "    }\n",
       "\n",
       "    .dataframe tbody tr th {\n",
       "        vertical-align: top;\n",
       "    }\n",
       "\n",
       "    .dataframe thead th {\n",
       "        text-align: right;\n",
       "    }\n",
       "</style>\n",
       "<table border=\"1\" class=\"dataframe\">\n",
       "  <thead>\n",
       "    <tr style=\"text-align: right;\">\n",
       "      <th></th>\n",
       "      <th>PatientId</th>\n",
       "      <th>AppointmentID</th>\n",
       "      <th>Gender</th>\n",
       "      <th>ScheduledDay</th>\n",
       "      <th>AppointmentDay</th>\n",
       "      <th>Age</th>\n",
       "      <th>Neighbourhood</th>\n",
       "      <th>Scholarship</th>\n",
       "      <th>Hipertension</th>\n",
       "      <th>Diabetes</th>\n",
       "      <th>Alcoholism</th>\n",
       "      <th>Handcap</th>\n",
       "      <th>SMS_received</th>\n",
       "      <th>No-show</th>\n",
       "    </tr>\n",
       "  </thead>\n",
       "  <tbody>\n",
       "    <tr>\n",
       "      <th>0</th>\n",
       "      <td>2.987250e+13</td>\n",
       "      <td>5642903</td>\n",
       "      <td>F</td>\n",
       "      <td>2016-04-29T18:38:08Z</td>\n",
       "      <td>2016-04-29T00:00:00Z</td>\n",
       "      <td>62</td>\n",
       "      <td>JARDIM DA PENHA</td>\n",
       "      <td>0</td>\n",
       "      <td>1</td>\n",
       "      <td>0</td>\n",
       "      <td>0</td>\n",
       "      <td>0</td>\n",
       "      <td>0</td>\n",
       "      <td>No</td>\n",
       "    </tr>\n",
       "    <tr>\n",
       "      <th>1</th>\n",
       "      <td>5.589978e+14</td>\n",
       "      <td>5642503</td>\n",
       "      <td>M</td>\n",
       "      <td>2016-04-29T16:08:27Z</td>\n",
       "      <td>2016-04-29T00:00:00Z</td>\n",
       "      <td>56</td>\n",
       "      <td>JARDIM DA PENHA</td>\n",
       "      <td>0</td>\n",
       "      <td>0</td>\n",
       "      <td>0</td>\n",
       "      <td>0</td>\n",
       "      <td>0</td>\n",
       "      <td>0</td>\n",
       "      <td>No</td>\n",
       "    </tr>\n",
       "    <tr>\n",
       "      <th>2</th>\n",
       "      <td>4.262962e+12</td>\n",
       "      <td>5642549</td>\n",
       "      <td>F</td>\n",
       "      <td>2016-04-29T16:19:04Z</td>\n",
       "      <td>2016-04-29T00:00:00Z</td>\n",
       "      <td>62</td>\n",
       "      <td>MATA DA PRAIA</td>\n",
       "      <td>0</td>\n",
       "      <td>0</td>\n",
       "      <td>0</td>\n",
       "      <td>0</td>\n",
       "      <td>0</td>\n",
       "      <td>0</td>\n",
       "      <td>No</td>\n",
       "    </tr>\n",
       "    <tr>\n",
       "      <th>3</th>\n",
       "      <td>8.679512e+11</td>\n",
       "      <td>5642828</td>\n",
       "      <td>F</td>\n",
       "      <td>2016-04-29T17:29:31Z</td>\n",
       "      <td>2016-04-29T00:00:00Z</td>\n",
       "      <td>8</td>\n",
       "      <td>PONTAL DE CAMBURI</td>\n",
       "      <td>0</td>\n",
       "      <td>0</td>\n",
       "      <td>0</td>\n",
       "      <td>0</td>\n",
       "      <td>0</td>\n",
       "      <td>0</td>\n",
       "      <td>No</td>\n",
       "    </tr>\n",
       "    <tr>\n",
       "      <th>4</th>\n",
       "      <td>8.841186e+12</td>\n",
       "      <td>5642494</td>\n",
       "      <td>F</td>\n",
       "      <td>2016-04-29T16:07:23Z</td>\n",
       "      <td>2016-04-29T00:00:00Z</td>\n",
       "      <td>56</td>\n",
       "      <td>JARDIM DA PENHA</td>\n",
       "      <td>0</td>\n",
       "      <td>1</td>\n",
       "      <td>1</td>\n",
       "      <td>0</td>\n",
       "      <td>0</td>\n",
       "      <td>0</td>\n",
       "      <td>No</td>\n",
       "    </tr>\n",
       "  </tbody>\n",
       "</table>\n",
       "</div>"
      ],
      "text/plain": [
       "      PatientId  AppointmentID Gender          ScheduledDay  \\\n",
       "0  2.987250e+13        5642903      F  2016-04-29T18:38:08Z   \n",
       "1  5.589978e+14        5642503      M  2016-04-29T16:08:27Z   \n",
       "2  4.262962e+12        5642549      F  2016-04-29T16:19:04Z   \n",
       "3  8.679512e+11        5642828      F  2016-04-29T17:29:31Z   \n",
       "4  8.841186e+12        5642494      F  2016-04-29T16:07:23Z   \n",
       "\n",
       "         AppointmentDay  Age      Neighbourhood  Scholarship  Hipertension  \\\n",
       "0  2016-04-29T00:00:00Z   62    JARDIM DA PENHA            0             1   \n",
       "1  2016-04-29T00:00:00Z   56    JARDIM DA PENHA            0             0   \n",
       "2  2016-04-29T00:00:00Z   62      MATA DA PRAIA            0             0   \n",
       "3  2016-04-29T00:00:00Z    8  PONTAL DE CAMBURI            0             0   \n",
       "4  2016-04-29T00:00:00Z   56    JARDIM DA PENHA            0             1   \n",
       "\n",
       "   Diabetes  Alcoholism  Handcap  SMS_received No-show  \n",
       "0         0           0        0             0      No  \n",
       "1         0           0        0             0      No  \n",
       "2         0           0        0             0      No  \n",
       "3         0           0        0             0      No  \n",
       "4         1           0        0             0      No  "
      ]
     },
     "execution_count": 2,
     "metadata": {},
     "output_type": "execute_result"
    }
   ],
   "source": [
    "## Reference for downloading the data set : https://www.kaggle.com/joniarroba/noshowappointments\n",
    "\n",
    "df = pd.read_csv(\"KaggleV2-May-2016.csv\")\n",
    "df.head()"
   ]
  },
  {
   "cell_type": "code",
   "execution_count": 3,
   "id": "bb8465d9",
   "metadata": {},
   "outputs": [],
   "source": [
    "# Seperating training and test data with stratified sampling\n",
    "\n",
    "split = StratifiedShuffleSplit(n_splits=1, test_size=0.189, random_state=1234)\n",
    "for train_index, test_index in split.split(df, df[\"No-show\"]):\n",
    "    train_set = df.loc[train_index]\n",
    "    test_set = df.loc[test_index]"
   ]
  },
  {
   "cell_type": "code",
   "execution_count": 4,
   "id": "96b6b8c5",
   "metadata": {},
   "outputs": [],
   "source": [
    "# Saving the train and test sets\n",
    "\n",
    "train_set.to_csv(\"Trainingdata.csv\",index=False)\n",
    "test_set.to_csv(\"Testdata.csv\",index=False)"
   ]
  },
  {
   "cell_type": "code",
   "execution_count": 5,
   "id": "ac8681f8",
   "metadata": {},
   "outputs": [],
   "source": [
    "## Define the independent and dependent variables\n",
    "\n",
    "X=train_set.loc[:, train_set.columns != 'No-show'] # It will contains all columns except our target column\n",
    "Y=train_set.loc[:, train_set.columns == 'No-show'] #It will contain target column"
   ]
  },
  {
   "cell_type": "code",
   "execution_count": 6,
   "id": "ad3618c8",
   "metadata": {},
   "outputs": [],
   "source": [
    "# Remove records with erroneous entries\n",
    "\n",
    "def get_percentage_missing(series):\n",
    "    \"\"\" Calculates percentage of NaN values in DataFrame\n",
    "    :param series: Pandas DataFrame object\n",
    "    :return: float\n",
    "    \"\"\"\n",
    "    num = series.isnull().sum()\n",
    "    den = len(series)\n",
    "    return round(num/den, 2)"
   ]
  },
  {
   "cell_type": "code",
   "execution_count": 7,
   "id": "10e878c2",
   "metadata": {
    "scrolled": true
   },
   "outputs": [
    {
     "data": {
      "text/plain": [
       "PatientId         0.0\n",
       "AppointmentID     0.0\n",
       "Gender            0.0\n",
       "ScheduledDay      0.0\n",
       "AppointmentDay    0.0\n",
       "Age               0.0\n",
       "Neighbourhood     0.0\n",
       "Scholarship       0.0\n",
       "Hipertension      0.0\n",
       "Diabetes          0.0\n",
       "Alcoholism        0.0\n",
       "Handcap           0.0\n",
       "SMS_received      0.0\n",
       "No-show           0.0\n",
       "dtype: float64"
      ]
     },
     "execution_count": 7,
     "metadata": {},
     "output_type": "execute_result"
    }
   ],
   "source": [
    "get_percentage_missing(df)"
   ]
  },
  {
   "cell_type": "markdown",
   "id": "32586c00",
   "metadata": {},
   "source": [
    "## Part II: Data Visualization\n",
    "\n",
    "- I explore data visualization, checking data distribution and data attributes. "
   ]
  },
  {
   "cell_type": "code",
   "execution_count": 8,
   "id": "194426fd",
   "metadata": {},
   "outputs": [
    {
     "data": {
      "image/png": "[encoded data removed]",
      "text/plain": [
       "<Figure size 1080x720 with 9 Axes>"
      ]
     },
     "metadata": {
      "needs_background": "light"
     },
     "output_type": "display_data"
    }
   ],
   "source": [
    "# Plotting all the numeric columns to get an idea of their data distribution\n",
    "\n",
    "import matplotlib.pyplot as plt\n",
    "df.hist(layout=(3,3), figsize=(15,10))\n",
    "\n",
    "plt.show()"
   ]
  },
  {
   "cell_type": "markdown",
   "id": "18bd157a",
   "metadata": {},
   "source": [
    "- I will not be considering PatientID and Appointment ID in our training columns, as our data samples are independent and identically distributed so we can remove the sample IDs. It is given that all samples come from or refer to the same source/object and they don't somehow identify the sample class."
   ]
  },
  {
   "cell_type": "code",
   "execution_count": 9,
   "id": "b743b75e",
   "metadata": {},
   "outputs": [
    {
     "data": {
      "text/plain": [
       "0         5642903\n",
       "1         5642503\n",
       "2         5642549\n",
       "3         5642828\n",
       "4         5642494\n",
       "           ...   \n",
       "110522    5651768\n",
       "110523    5650093\n",
       "110524    5630692\n",
       "110525    5630323\n",
       "110526    5629448\n",
       "Name: AppointmentID, Length: 110527, dtype: int64"
      ]
     },
     "execution_count": 9,
     "metadata": {},
     "output_type": "execute_result"
    }
   ],
   "source": [
    "# Exclude PatientId & AppointmentID\n",
    "\n",
    "df.pop('PatientId')\n",
    "df.pop('AppointmentID')"
   ]
  },
  {
   "cell_type": "code",
   "execution_count": 10,
   "id": "5b09088d",
   "metadata": {},
   "outputs": [],
   "source": [
    "# Replace age that is less than zero or greater than a certain number to  NaN\n",
    "\n",
    "df['Age'] = df['Age'].mask(df['Age'].sub(df['Age'].mean()).div(df['Age'].std()).abs().gt(2))"
   ]
  },
  {
   "cell_type": "code",
   "execution_count": 11,
   "id": "3c9b62d4",
   "metadata": {},
   "outputs": [],
   "source": [
    "# Converting target categorical column to numeric column\n",
    "\n",
    "from sklearn.preprocessing import LabelEncoder\n",
    "y_converted = LabelEncoder().fit_transform(np.ravel(Y))"
   ]
  },
  {
   "cell_type": "code",
   "execution_count": 12,
   "id": "fd96e6be",
   "metadata": {},
   "outputs": [],
   "source": [
    "# numerical features\n",
    "\n",
    "num_cols = X.select_dtypes([int, float]).columns"
   ]
  },
  {
   "cell_type": "markdown",
   "id": "599ce17d",
   "metadata": {},
   "source": [
    "## Part III: Training , Comparing Models Performance\n",
    "\n",
    "- I test model performance on different folds using k-fold cross-validation. For each model, I make the confusion matrix and an accuracy plot."
   ]
  },
  {
   "cell_type": "code",
   "execution_count": 14,
   "id": "a5cbda64",
   "metadata": {},
   "outputs": [],
   "source": [
    "class CustomImputer(BaseEstimator, TransformerMixin):\n",
    "    def __init__(self, method='mean', to_fill_with='NA'):\n",
    "        self.method = method\n",
    "        self.fill = to_fill_with\n",
    "\n",
    "    def fit(self, X, y=None):\n",
    "        if self.method in ['mean', 'median']:\n",
    "            if not all([dtype in [np.number, np.int] for dtype in X.dtypes]):\n",
    "                raise ValueError('Only mean median and mode method is supported')\n",
    "        if self.method == 'mean':\n",
    "            self.fill = X.mean()\n",
    "        elif self.method == 'median':\n",
    "            self.fill = X.median()\n",
    "        elif self.method == 'mode':\n",
    "            self.fill = X.mode().iloc[0]\n",
    "        elif self.method == 'fill':\n",
    "            if type(self.fill) is list and type(X) is pd.DataFrame:\n",
    "                self.fill = dict([(cname, v) for cname, v in zip(X.columns, self.fill)])\n",
    "        return self\n",
    "\n",
    "    def transform(self, X, y=None):\n",
    "        return X.fillna(self.fill)"
   ]
  },
  {
   "cell_type": "code",
   "execution_count": 15,
   "id": "829dff86",
   "metadata": {},
   "outputs": [],
   "source": [
    "## Making a pipeline for numerical data\n",
    "\n",
    "numerical_data_pipeline = DataFrameMapper(\n",
    "        [(X.select_dtypes([int, float]).columns,\n",
    "        CustomImputer(method='median'), {'alias': 'numerical_data'}\n",
    "        )    \n",
    "        ],input_df=True ,df_out=True)\n",
    "\n",
    "\n",
    "\n",
    "from sklearn.preprocessing import StandardScaler\n",
    "from sklearn.preprocessing import MinMaxScaler\n",
    "\n",
    "scaled_numerical_pipeline = make_pipeline(\n",
    "    numerical_data_pipeline,\n",
    "    StandardScaler(),\n",
    "    MinMaxScaler()\n",
    ")"
   ]
  },
  {
   "cell_type": "code",
   "execution_count": 16,
   "id": "32544dcb",
   "metadata": {},
   "outputs": [
    {
     "data": {
      "text/html": [
       "<div>\n",
       "<style scoped>\n",
       "    .dataframe tbody tr th:only-of-type {\n",
       "        vertical-align: middle;\n",
       "    }\n",
       "\n",
       "    .dataframe tbody tr th {\n",
       "        vertical-align: top;\n",
       "    }\n",
       "\n",
       "    .dataframe thead th {\n",
       "        text-align: right;\n",
       "    }\n",
       "</style>\n",
       "<table border=\"1\" class=\"dataframe\">\n",
       "  <thead>\n",
       "    <tr style=\"text-align: right;\">\n",
       "      <th></th>\n",
       "      <th>numerical_data_0</th>\n",
       "      <th>numerical_data_1</th>\n",
       "      <th>numerical_data_2</th>\n",
       "      <th>numerical_data_3</th>\n",
       "      <th>numerical_data_4</th>\n",
       "      <th>numerical_data_5</th>\n",
       "      <th>numerical_data_6</th>\n",
       "      <th>numerical_data_7</th>\n",
       "      <th>numerical_data_8</th>\n",
       "    </tr>\n",
       "  </thead>\n",
       "  <tbody>\n",
       "    <tr>\n",
       "      <th>64781</th>\n",
       "      <td>7.689156e+11</td>\n",
       "      <td>5545766</td>\n",
       "      <td>35</td>\n",
       "      <td>0</td>\n",
       "      <td>0</td>\n",
       "      <td>0</td>\n",
       "      <td>0</td>\n",
       "      <td>0</td>\n",
       "      <td>1</td>\n",
       "    </tr>\n",
       "    <tr>\n",
       "      <th>33727</th>\n",
       "      <td>8.781385e+12</td>\n",
       "      <td>5686794</td>\n",
       "      <td>52</td>\n",
       "      <td>1</td>\n",
       "      <td>0</td>\n",
       "      <td>0</td>\n",
       "      <td>0</td>\n",
       "      <td>0</td>\n",
       "      <td>0</td>\n",
       "    </tr>\n",
       "    <tr>\n",
       "      <th>13711</th>\n",
       "      <td>3.716832e+13</td>\n",
       "      <td>5616637</td>\n",
       "      <td>12</td>\n",
       "      <td>0</td>\n",
       "      <td>0</td>\n",
       "      <td>0</td>\n",
       "      <td>0</td>\n",
       "      <td>0</td>\n",
       "      <td>0</td>\n",
       "    </tr>\n",
       "    <tr>\n",
       "      <th>104875</th>\n",
       "      <td>5.979859e+10</td>\n",
       "      <td>5773063</td>\n",
       "      <td>50</td>\n",
       "      <td>0</td>\n",
       "      <td>0</td>\n",
       "      <td>0</td>\n",
       "      <td>0</td>\n",
       "      <td>0</td>\n",
       "      <td>0</td>\n",
       "    </tr>\n",
       "    <tr>\n",
       "      <th>51299</th>\n",
       "      <td>9.486152e+12</td>\n",
       "      <td>5529988</td>\n",
       "      <td>17</td>\n",
       "      <td>0</td>\n",
       "      <td>0</td>\n",
       "      <td>0</td>\n",
       "      <td>0</td>\n",
       "      <td>0</td>\n",
       "      <td>1</td>\n",
       "    </tr>\n",
       "    <tr>\n",
       "      <th>...</th>\n",
       "      <td>...</td>\n",
       "      <td>...</td>\n",
       "      <td>...</td>\n",
       "      <td>...</td>\n",
       "      <td>...</td>\n",
       "      <td>...</td>\n",
       "      <td>...</td>\n",
       "      <td>...</td>\n",
       "      <td>...</td>\n",
       "    </tr>\n",
       "    <tr>\n",
       "      <th>94003</th>\n",
       "      <td>2.979784e+13</td>\n",
       "      <td>5764895</td>\n",
       "      <td>0</td>\n",
       "      <td>0</td>\n",
       "      <td>0</td>\n",
       "      <td>0</td>\n",
       "      <td>0</td>\n",
       "      <td>0</td>\n",
       "      <td>0</td>\n",
       "    </tr>\n",
       "    <tr>\n",
       "      <th>20314</th>\n",
       "      <td>1.736887e+14</td>\n",
       "      <td>5663006</td>\n",
       "      <td>18</td>\n",
       "      <td>0</td>\n",
       "      <td>0</td>\n",
       "      <td>0</td>\n",
       "      <td>0</td>\n",
       "      <td>0</td>\n",
       "      <td>0</td>\n",
       "    </tr>\n",
       "    <tr>\n",
       "      <th>83679</th>\n",
       "      <td>1.358535e+14</td>\n",
       "      <td>5589464</td>\n",
       "      <td>71</td>\n",
       "      <td>0</td>\n",
       "      <td>0</td>\n",
       "      <td>1</td>\n",
       "      <td>0</td>\n",
       "      <td>0</td>\n",
       "      <td>0</td>\n",
       "    </tr>\n",
       "    <tr>\n",
       "      <th>50014</th>\n",
       "      <td>3.355592e+13</td>\n",
       "      <td>5630383</td>\n",
       "      <td>36</td>\n",
       "      <td>0</td>\n",
       "      <td>0</td>\n",
       "      <td>0</td>\n",
       "      <td>0</td>\n",
       "      <td>0</td>\n",
       "      <td>0</td>\n",
       "    </tr>\n",
       "    <tr>\n",
       "      <th>10278</th>\n",
       "      <td>9.759698e+11</td>\n",
       "      <td>5666777</td>\n",
       "      <td>30</td>\n",
       "      <td>0</td>\n",
       "      <td>0</td>\n",
       "      <td>0</td>\n",
       "      <td>0</td>\n",
       "      <td>0</td>\n",
       "      <td>0</td>\n",
       "    </tr>\n",
       "  </tbody>\n",
       "</table>\n",
       "<p>89637 rows × 9 columns</p>\n",
       "</div>"
      ],
      "text/plain": [
       "        numerical_data_0  numerical_data_1  numerical_data_2  \\\n",
       "64781       7.689156e+11           5545766                35   \n",
       "33727       8.781385e+12           5686794                52   \n",
       "13711       3.716832e+13           5616637                12   \n",
       "104875      5.979859e+10           5773063                50   \n",
       "51299       9.486152e+12           5529988                17   \n",
       "...                  ...               ...               ...   \n",
       "94003       2.979784e+13           5764895                 0   \n",
       "20314       1.736887e+14           5663006                18   \n",
       "83679       1.358535e+14           5589464                71   \n",
       "50014       3.355592e+13           5630383                36   \n",
       "10278       9.759698e+11           5666777                30   \n",
       "\n",
       "        numerical_data_3  numerical_data_4  numerical_data_5  \\\n",
       "64781                  0                 0                 0   \n",
       "33727                  1                 0                 0   \n",
       "13711                  0                 0                 0   \n",
       "104875                 0                 0                 0   \n",
       "51299                  0                 0                 0   \n",
       "...                  ...               ...               ...   \n",
       "94003                  0                 0                 0   \n",
       "20314                  0                 0                 0   \n",
       "83679                  0                 0                 1   \n",
       "50014                  0                 0                 0   \n",
       "10278                  0                 0                 0   \n",
       "\n",
       "        numerical_data_6  numerical_data_7  numerical_data_8  \n",
       "64781                  0                 0                 1  \n",
       "33727                  0                 0                 0  \n",
       "13711                  0                 0                 0  \n",
       "104875                 0                 0                 0  \n",
       "51299                  0                 0                 1  \n",
       "...                  ...               ...               ...  \n",
       "94003                  0                 0                 0  \n",
       "20314                  0                 0                 0  \n",
       "83679                  0                 0                 0  \n",
       "50014                  0                 0                 0  \n",
       "10278                  0                 0                 0  \n",
       "\n",
       "[89637 rows x 9 columns]"
      ]
     },
     "execution_count": 16,
     "metadata": {},
     "output_type": "execute_result"
    }
   ],
   "source": [
    "numerical_data_pipeline.fit_transform(X)"
   ]
  },
  {
   "cell_type": "code",
   "execution_count": 17,
   "id": "47a62845",
   "metadata": {},
   "outputs": [],
   "source": [
    "impute_mode_cols = gen_features(\n",
    "    columns=X.select_dtypes('object').columns,\n",
    "    classes=[\n",
    "        {'class':CustomImputer,'method':'mode'},\n",
    "        {'class':LabelEncoder}\n",
    "    ]\n",
    ")"
   ]
  },
  {
   "cell_type": "code",
   "execution_count": 18,
   "id": "4f7777fc",
   "metadata": {},
   "outputs": [
    {
     "data": {
      "text/plain": [
       "array([[    0,  4137,     2,    38],\n",
       "       [    0, 45699,    10,    36],\n",
       "       [    0, 13767,    16,    24],\n",
       "       ...,\n",
       "       [    1,  8570,     4,    36],\n",
       "       [    0, 17503,    13,    39],\n",
       "       [    0, 35022,     5,    23]])"
      ]
     },
     "execution_count": 18,
     "metadata": {},
     "output_type": "execute_result"
    }
   ],
   "source": [
    "categorical_data_pipeline = make_union(\n",
    "    DataFrameMapper(impute_mode_cols, input_df=True, df_out=True)\n",
    ")\n",
    "categorical_data_pipeline.fit_transform(X)"
   ]
  },
  {
   "cell_type": "code",
   "execution_count": 19,
   "id": "782d8251",
   "metadata": {},
   "outputs": [],
   "source": [
    "# Final pipeline for pre-processing features\n",
    "\n",
    "features_pipeline = make_union(scaled_numerical_pipeline, \n",
    "                      categorical_data_pipeline)"
   ]
  },
  {
   "cell_type": "code",
   "execution_count": 20,
   "id": "b7877c10",
   "metadata": {},
   "outputs": [],
   "source": [
    "final_X = features_pipeline.fit_transform(X)"
   ]
  },
  {
   "cell_type": "code",
   "execution_count": 21,
   "id": "fa4b5af4",
   "metadata": {},
   "outputs": [],
   "source": [
    "final_dataframe = pd.concat([ pd.DataFrame(y_converted),pd.DataFrame(final_X)] ,axis=1)"
   ]
  },
  {
   "cell_type": "code",
   "execution_count": 22,
   "id": "8ad4d6bf",
   "metadata": {},
   "outputs": [],
   "source": [
    "final_dataframe.to_csv(\"Trainingdata.csv\",index=False)"
   ]
  },
  {
   "cell_type": "code",
   "execution_count": 23,
   "id": "7e5c5907",
   "metadata": {},
   "outputs": [],
   "source": [
    "# Read training data\n",
    "\n",
    "traindf = pd.read_csv(\"Trainingdata.csv\")"
   ]
  },
  {
   "cell_type": "code",
   "execution_count": 24,
   "id": "f7f9a682",
   "metadata": {},
   "outputs": [],
   "source": [
    "# Seperating the independent and dependent variables\n",
    "\n",
    "X_train=traindf.loc[:, traindf.columns != '0'] # It will contains all columns except our target column\n",
    "y_train=traindf.loc[:, traindf.columns == '0'] #It will contain target column"
   ]
  },
  {
   "cell_type": "code",
   "execution_count": 25,
   "id": "00c88387",
   "metadata": {},
   "outputs": [],
   "source": [
    "# K Fold cross validation\n",
    "\n",
    "def k_fold_cross_validation(training_columns, labels, Classifier, name_of_model): \n",
    " \n",
    "\n",
    "    kf = KFold( shuffle=True,n_splits=10)# Initializing KFold object with 10 as k-value\n",
    "    accs=[]\n",
    "    training_columns_train_array = []\n",
    "    labels_train_array = []\n",
    "    training_columns_test_array = []\n",
    "    labels_test_array = []\n",
    "    iter = 0\n",
    "    print(\"Applying K fold cv algorithm for :\", (name_of_model))\n",
    "    for training_indices, test_indices in kf.split(training_columns):\n",
    "        iter += 1\n",
    "        print(\"iter \", iter)\n",
    "        training_columns_train_cv, labels_train_cv = training_columns.iloc[training_indices], labels.iloc[training_indices]\n",
    "        training_columns_test_cv, labels_test_cv = training_columns.iloc[test_indices], labels.iloc[test_indices]\n",
    "        training_columns_train_array.append(training_columns_train_cv) # adding training score for  the given iteration\n",
    "        training_columns_test_array.append(training_columns_test_cv) # adding test score for iteration\n",
    "        labels_train_array.append(labels_train_cv)  # adding training labels for  the given iteration\n",
    "        labels_test_array.append(labels_test_cv)  # adding test labels for  the given iteration\n",
    "        print(\"Shape of training training_columns: \", training_columns_train_cv.shape)\n",
    "        print(\"Shape of test training_columns: \", training_columns_test_cv.shape)\n",
    "        Classifier.fit(training_columns_train_cv, labels_train_cv) \n",
    "        preds = Classifier.predict(training_columns_test_cv)\n",
    "        score = accuracy_score(preds, labels_test_cv) # Calculating acc\n",
    "        accs.append(score) # adding k-fold  acc for each iter\n",
    "    print(\"List of k-fold  accs for {}: \".format(name_of_model), accs)\n",
    "    average_acc = np.mean(accs)\n",
    "    print(\"\\nAverage k-fold  acc for {}: \".format(name_of_model), average_acc)\n",
    "    print(\"\\nBest k-fold  acc for {}: \".format(name_of_model), max(accs))\n",
    "    maximum_acc_index = accs.index(max(accs)) # best k-fold  acc\n",
    "    maximum_acc_training_columns_train = training_columns_train_array[maximum_acc_index] # training training_columns corresponding to best k-fold  acc\n",
    "    maximum_acc_training_columns_test = training_columns_test_array[maximum_acc_index] # test training_columns corresponding to best k-fold  acc\n",
    "    maximum_acc_labels_train = labels_train_array[maximum_acc_index] # training labels corresponding to best k-fold  acc\n",
    "    maximum_acc_labels_test = labels_test_array[maximum_acc_index] # test labels corresponding to best k-fold  acc\n",
    "\n",
    "    return average_acc, maximum_acc_training_columns_train, maximum_acc_training_columns_test, maximum_acc_labels_train, maximum_acc_labels_test,accs"
   ]
  },
  {
   "cell_type": "code",
   "execution_count": 26,
   "id": "d6388488",
   "metadata": {},
   "outputs": [],
   "source": [
    "# Visualize the performance of each Classifier, we will be noting its accuracy\n",
    "\n",
    "def evaluate(max_acc_data_train, max_acc_data_test, max_acc_targets_train, max_acc_targets_test, targets, regr): \n",
    "    regr.fit(max_acc_data_train, max_acc_targets_train) #\n",
    "    targets_pred = regr.predict(max_acc_data_test) # Prediction on test data\n",
    "    \n",
    "    print(\"roc_auc_score\")\n",
    "    rep = roc_auc_score(max_acc_targets_test, targets_pred)\n",
    "    print(rep)"
   ]
  },
  {
   "cell_type": "code",
   "execution_count": 27,
   "id": "eb69c64f",
   "metadata": {},
   "outputs": [
    {
     "name": "stdout",
     "output_type": "stream",
     "text": [
      "Applying K fold cv algorithm for : DT\n",
      "iter  1\n",
      "Shape of training training_columns:  (80673, 13)\n",
      "Shape of test training_columns:  (8964, 13)\n",
      "iter  2\n",
      "Shape of training training_columns:  (80673, 13)\n",
      "Shape of test training_columns:  (8964, 13)\n",
      "iter  3\n",
      "Shape of training training_columns:  (80673, 13)\n",
      "Shape of test training_columns:  (8964, 13)\n",
      "iter  4\n",
      "Shape of training training_columns:  (80673, 13)\n",
      "Shape of test training_columns:  (8964, 13)\n",
      "iter  5\n",
      "Shape of training training_columns:  (80673, 13)\n",
      "Shape of test training_columns:  (8964, 13)\n",
      "iter  6\n",
      "Shape of training training_columns:  (80673, 13)\n",
      "Shape of test training_columns:  (8964, 13)\n",
      "iter  7\n",
      "Shape of training training_columns:  (80673, 13)\n",
      "Shape of test training_columns:  (8964, 13)\n",
      "iter  8\n",
      "Shape of training training_columns:  (80674, 13)\n",
      "Shape of test training_columns:  (8963, 13)\n",
      "iter  9\n",
      "Shape of training training_columns:  (80674, 13)\n",
      "Shape of test training_columns:  (8963, 13)\n",
      "iter  10\n",
      "Shape of training training_columns:  (80674, 13)\n",
      "Shape of test training_columns:  (8963, 13)\n",
      "List of k-fold  accs for DT:  [0.7993083444890674, 0.7991967871485943, 0.7985274431057564, 0.7968540829986613, 0.7917224453369032, 0.7998661311914324, 0.7946229361892012, 0.8004016512328461, 0.8005132210197479, 0.7996206627245342]\n",
      "\n",
      "Average k-fold  acc for DT:  0.7980633705436744\n",
      "\n",
      "Best k-fold  acc for DT:  0.8005132210197479\n",
      "roc_auc_score\n",
      "0.5\n"
     ]
    }
   ],
   "source": [
    "# Decision Tree models with default parameters\n",
    "\n",
    "clf = DecisionTreeClassifier(min_impurity_decrease=0.4) # DT Model\n",
    "DT_mean_accuracy, max_acc_data_train, max_acc_data_test, max_acc_targets_train, max_acc_targets_test,dt_scores = k_fold_cross_validation(X_train, y_train, clf, \"DT\") # cross-validation\n",
    "evaluate(max_acc_data_train, max_acc_data_test, max_acc_targets_train, max_acc_targets_test, y_train, clf) #  confusion matrix"
   ]
  },
  {
   "cell_type": "code",
   "execution_count": 28,
   "id": "d2c32b87",
   "metadata": {},
   "outputs": [
    {
     "data": {
      "image/png": "[encoded data removed]",
      "text/plain": [
       "<Figure size 432x288 with 1 Axes>"
      ]
     },
     "metadata": {
      "needs_background": "light"
     },
     "output_type": "display_data"
    }
   ],
   "source": [
    "# plot to compare accuracy values\n",
    "plt.plot(dt_scores,color='r',label=\"Decision Tree\")\n",
    "plt.legend(loc=\"best\")\n",
    "\n",
    "plt.title(\"Accuracy accross each fold\") ## Setting subtitle of fig 1\n",
    "plt.xlabel(\"Folds\") ## Setting x-label of fig 1\n",
    "plt.ylabel(\"Accuracy\"); ## Setting y-label of fig 1"
   ]
  },
  {
   "cell_type": "code",
   "execution_count": 29,
   "id": "03ba9072",
   "metadata": {},
   "outputs": [
    {
     "name": "stdout",
     "output_type": "stream",
     "text": [
      "Applying K fold cv algorithm for : RF\n",
      "iter  1\n",
      "Shape of training training_columns:  (80673, 13)\n",
      "Shape of test training_columns:  (8964, 13)\n",
      "iter  2\n",
      "Shape of training training_columns:  (80673, 13)\n",
      "Shape of test training_columns:  (8964, 13)\n",
      "iter  3\n",
      "Shape of training training_columns:  (80673, 13)\n",
      "Shape of test training_columns:  (8964, 13)\n",
      "iter  4\n",
      "Shape of training training_columns:  (80673, 13)\n",
      "Shape of test training_columns:  (8964, 13)\n",
      "iter  5\n",
      "Shape of training training_columns:  (80673, 13)\n",
      "Shape of test training_columns:  (8964, 13)\n",
      "iter  6\n",
      "Shape of training training_columns:  (80673, 13)\n",
      "Shape of test training_columns:  (8964, 13)\n",
      "iter  7\n",
      "Shape of training training_columns:  (80673, 13)\n",
      "Shape of test training_columns:  (8964, 13)\n",
      "iter  8\n",
      "Shape of training training_columns:  (80674, 13)\n",
      "Shape of test training_columns:  (8963, 13)\n",
      "iter  9\n",
      "Shape of training training_columns:  (80674, 13)\n",
      "Shape of test training_columns:  (8963, 13)\n",
      "iter  10\n",
      "Shape of training training_columns:  (80674, 13)\n",
      "Shape of test training_columns:  (8963, 13)\n",
      "List of k-fold  accs for RF:  [0.7937304774654173, 0.8017626059794735, 0.8023203926818384, 0.7965194109772423, 0.7942882641677822, 0.8026550647032574, 0.8009817045961625, 0.800066941872141, 0.7911413589200045, 0.7971661274126967]\n",
      "\n",
      "Average k-fold  acc for RF:  0.7980632348776016\n",
      "\n",
      "Best k-fold  acc for RF:  0.8026550647032574\n",
      "roc_auc_score\n",
      "0.5\n"
     ]
    }
   ],
   "source": [
    "clf = RandomForestClassifier(min_impurity_decrease=0.3) # DT Model\n",
    "DT_mean_accuracy, max_acc_data_train, max_acc_data_test, max_acc_targets_train, max_acc_targets_test,dt_scores = k_fold_cross_validation(X_train, y_train, clf, \"RF\") # cross-validation\n",
    "evaluate(max_acc_data_train, max_acc_data_test, max_acc_targets_train, max_acc_targets_test, y_train, clf) #  confusion matrix"
   ]
  },
  {
   "cell_type": "code",
   "execution_count": 30,
   "id": "a2fe64b5",
   "metadata": {},
   "outputs": [
    {
     "data": {
      "image/png": "[encoded data removed]",
      "text/plain": [
       "<Figure size 432x288 with 1 Axes>"
      ]
     },
     "metadata": {
      "needs_background": "light"
     },
     "output_type": "display_data"
    }
   ],
   "source": [
    "# plot to compare accuracy values\n",
    "plt.plot(dt_scores,color='r',label=\"Random Forest\")\n",
    "plt.legend(loc=\"best\")\n",
    "\n",
    "plt.title(\"Accuracy accross each fold\") ## Setting subtitle of fig 1\n",
    "plt.xlabel(\"Folds\") ## Setting x-label of fig 1\n",
    "plt.ylabel(\"Accuracy\"); ## Setting y-label of fig 1"
   ]
  },
  {
   "cell_type": "code",
   "execution_count": 31,
   "id": "e2c51218",
   "metadata": {},
   "outputs": [
    {
     "name": "stdout",
     "output_type": "stream",
     "text": [
      "Applying K fold cv algorithm for : LinearSVC\n",
      "iter  1\n",
      "Shape of training training_columns:  (80673, 13)\n",
      "Shape of test training_columns:  (8964, 13)\n",
      "iter  2\n",
      "Shape of training training_columns:  (80673, 13)\n",
      "Shape of test training_columns:  (8964, 13)\n",
      "iter  3\n",
      "Shape of training training_columns:  (80673, 13)\n",
      "Shape of test training_columns:  (8964, 13)\n",
      "iter  4\n",
      "Shape of training training_columns:  (80673, 13)\n",
      "Shape of test training_columns:  (8964, 13)\n",
      "iter  5\n",
      "Shape of training training_columns:  (80673, 13)\n",
      "Shape of test training_columns:  (8964, 13)\n",
      "iter  6\n",
      "Shape of training training_columns:  (80673, 13)\n",
      "Shape of test training_columns:  (8964, 13)\n",
      "iter  7\n",
      "Shape of training training_columns:  (80673, 13)\n",
      "Shape of test training_columns:  (8964, 13)\n",
      "iter  8\n",
      "Shape of training training_columns:  (80674, 13)\n",
      "Shape of test training_columns:  (8963, 13)\n",
      "iter  9\n",
      "Shape of training training_columns:  (80674, 13)\n",
      "Shape of test training_columns:  (8963, 13)\n",
      "iter  10\n",
      "Shape of training training_columns:  (80674, 13)\n",
      "Shape of test training_columns:  (8963, 13)\n",
      "List of k-fold  accs for LinearSVC:  [0.21519410977242304, 0.8053324408746095, 0.29841588576528333, 0.33634538152610444, 0.7699687639446675, 0.7921686746987951, 0.8013163766175815, 0.7804306593774406, 0.30402766930715164, 0.7970545576257949]\n",
      "\n",
      "Average k-fold  acc for LinearSVC:  0.5900254519509851\n",
      "\n",
      "Best k-fold  acc for LinearSVC:  0.8053324408746095\n",
      "roc_auc_score\n",
      "0.5040180897988473\n"
     ]
    }
   ],
   "source": [
    "clf = LinearSVC() #  Linear SUV Model\n",
    "DT_mean_accuracy, max_acc_data_train, max_acc_data_test, max_acc_targets_train, max_acc_targets_test,dt_scores = k_fold_cross_validation(X_train, y_train, clf, \"LinearSVC\") # cross-validation\n",
    "evaluate(max_acc_data_train, max_acc_data_test, max_acc_targets_train, max_acc_targets_test, y_train, clf) #  confusion matrix"
   ]
  },
  {
   "cell_type": "code",
   "execution_count": 32,
   "id": "077068fd",
   "metadata": {},
   "outputs": [
    {
     "data": {
      "image/png": "[encoded data removed]",
      "text/plain": [
       "<Figure size 432x288 with 1 Axes>"
      ]
     },
     "metadata": {
      "needs_background": "light"
     },
     "output_type": "display_data"
    }
   ],
   "source": [
    "# plot to compare accuracy values\n",
    "\n",
    "plt.plot(dt_scores,color='r',label=\"LinearSVC \")\n",
    "plt.legend(loc=\"best\")\n",
    "\n",
    "plt.title(\"Accuracy accross each fold\") ## Setting subtitle of fig 1\n",
    "plt.xlabel(\"Folds\") ## Setting x-label of fig 1\n",
    "plt.ylabel(\"Accuracy\"); ## Setting y-label of fig 1"
   ]
  },
  {
   "cell_type": "code",
   "execution_count": 33,
   "id": "999a1c3f",
   "metadata": {},
   "outputs": [
    {
     "name": "stdout",
     "output_type": "stream",
     "text": [
      "Applying K fold cv algorithm for : SVC\n",
      "iter  1\n",
      "Shape of training training_columns:  (80673, 13)\n",
      "Shape of test training_columns:  (8964, 13)\n",
      "iter  2\n",
      "Shape of training training_columns:  (80673, 13)\n",
      "Shape of test training_columns:  (8964, 13)\n",
      "iter  3\n",
      "Shape of training training_columns:  (80673, 13)\n",
      "Shape of test training_columns:  (8964, 13)\n",
      "iter  4\n",
      "Shape of training training_columns:  (80673, 13)\n",
      "Shape of test training_columns:  (8964, 13)\n",
      "iter  5\n",
      "Shape of training training_columns:  (80673, 13)\n",
      "Shape of test training_columns:  (8964, 13)\n",
      "iter  6\n",
      "Shape of training training_columns:  (80673, 13)\n",
      "Shape of test training_columns:  (8964, 13)\n",
      "iter  7\n",
      "Shape of training training_columns:  (80673, 13)\n",
      "Shape of test training_columns:  (8964, 13)\n",
      "iter  8\n",
      "Shape of training training_columns:  (80674, 13)\n",
      "Shape of test training_columns:  (8963, 13)\n",
      "iter  9\n",
      "Shape of training training_columns:  (80674, 13)\n",
      "Shape of test training_columns:  (8963, 13)\n",
      "iter  10\n",
      "Shape of training training_columns:  (80674, 13)\n",
      "Shape of test training_columns:  (8963, 13)\n",
      "List of k-fold  accs for SVC:  [0.8043284248103525, 0.8041053101294066, 0.7961847389558233, 0.7987505577867023, 0.7923917893797412, 0.7996430165104864, 0.788375725122713, 0.7969429878388933, 0.8007363605935512, 0.7991743835769274]\n",
      "\n",
      "Average k-fold  acc for SVC:  0.7980633294704597\n",
      "\n",
      "Best k-fold  acc for SVC:  0.8043284248103525\n",
      "roc_auc_score\n",
      "0.5\n"
     ]
    }
   ],
   "source": [
    "clf = SVC(kernel='rbf') # Linear SUV with Radial Basis Function kernel Model\n",
    "DT_mean_accuracy, max_acc_data_train, max_acc_data_test, max_acc_targets_train, max_acc_targets_test,dt_scores = k_fold_cross_validation(X_train[:100000], y_train[:100000], clf, \"SVC\") # cross-validation\n",
    "evaluate(max_acc_data_train, max_acc_data_test, max_acc_targets_train, max_acc_targets_test, y_train, clf) #  confusion matrix"
   ]
  },
  {
   "cell_type": "code",
   "execution_count": 34,
   "id": "ef53934e",
   "metadata": {},
   "outputs": [
    {
     "data": {
      "image/png": "[encoded data removed]",
      "text/plain": [
       "<Figure size 432x288 with 1 Axes>"
      ]
     },
     "metadata": {
      "needs_background": "light"
     },
     "output_type": "display_data"
    }
   ],
   "source": [
    "# plot to compare accuracy values\n",
    "\n",
    "plt.plot(dt_scores,color='r',label=\"SVC \")\n",
    "plt.legend(loc=\"best\")\n",
    "\n",
    "plt.title(\"Accuracy accross each fold\") ## Setting subtitle of fig 1\n",
    "plt.xlabel(\"Folds\") ## Setting x-label of fig 1\n",
    "plt.ylabel(\"Accuracy\"); ## Setting y-label of fig 1"
   ]
  },
  {
   "cell_type": "markdown",
   "id": "a21679fe",
   "metadata": {},
   "source": [
    "**Reporting estimated performances:**\n",
    "\n",
    "| Classifier | AUC score | Accuracy |\n",
    "| --- | --- | --- |\n",
    "| RF | .56 | .79 |\n",
    "| DT | .60 | .73 |\n",
    "| Linear SVC | .5 | .80 |\n",
    "| Rbf SVC | .5 | .80 |"
   ]
  },
  {
   "cell_type": "markdown",
   "id": "1aa2d495",
   "metadata": {},
   "source": [
    "## Part IV : Hyperparameter Tuning\n",
    "\n",
    "- I fine-tune these models and compared their performances with other models."
   ]
  },
  {
   "cell_type": "code",
   "execution_count": 35,
   "id": "18808897",
   "metadata": {},
   "outputs": [],
   "source": [
    "model = DecisionTreeClassifier()\n",
    "\n",
    "min_impurity_decreases = [0.1,0.5,0.8]\n",
    "max_depths = [None, 5, 10, 15]\n",
    "max_leaf_Nodes = [None, 10,100]"
   ]
  },
  {
   "cell_type": "code",
   "execution_count": 36,
   "id": "790e38ff",
   "metadata": {},
   "outputs": [],
   "source": [
    "# define grid search\n",
    "\n",
    "grid = dict(min_impurity_decrease=min_impurity_decreases,max_depth=max_depths,max_leaf_nodes=max_leaf_Nodes)\n",
    "cv = RepeatedStratifiedKFold(n_splits=10, n_repeats=3, random_state=1)\n",
    "grid_search = GridSearchCV(estimator=model, param_grid=grid, n_jobs=-1, cv=cv)\n",
    "grid_result = grid_search.fit(X_train, y_train)"
   ]
  },
  {
   "cell_type": "code",
   "execution_count": 37,
   "id": "34eba261",
   "metadata": {},
   "outputs": [
    {
     "name": "stdout",
     "output_type": "stream",
     "text": [
      "Best: parameters {'max_depth': None, 'max_leaf_nodes': None, 'min_impurity_decrease': 0.1}\n"
     ]
    }
   ],
   "source": [
    "# summarize results\n",
    "\n",
    "print(\"Best: parameters %s\" % ( grid_result.best_params_))"
   ]
  },
  {
   "cell_type": "code",
   "execution_count": 38,
   "id": "d00a3aec",
   "metadata": {},
   "outputs": [],
   "source": [
    "# Create the parameter grid based on the results of random search \n",
    "\n",
    "param_grid = {\n",
    "    'max_depth': [80, 90],\n",
    "    'max_features': [2, 3],\n",
    "    'min_samples_leaf': [3, 4, 5],\n",
    "    'min_samples_split': [8, 10],\n",
    "    'n_estimators': [100, 200, 300]\n",
    "}"
   ]
  },
  {
   "cell_type": "code",
   "execution_count": 39,
   "id": "62f8abba",
   "metadata": {},
   "outputs": [],
   "source": [
    "# Create a based model\n",
    "\n",
    "rf = RandomForestClassifier()"
   ]
  },
  {
   "cell_type": "code",
   "execution_count": 40,
   "id": "a3c6286c",
   "metadata": {},
   "outputs": [],
   "source": [
    "# Instantiate the grid search model\n",
    "\n",
    "grid_search = GridSearchCV(estimator = rf, param_grid = param_grid, \n",
    "                          cv = 3, n_jobs = -1, verbose = 3)"
   ]
  },
  {
   "cell_type": "code",
   "execution_count": 41,
   "id": "fa2840c3",
   "metadata": {},
   "outputs": [
    {
     "name": "stdout",
     "output_type": "stream",
     "text": [
      "Fitting 3 folds for each of 72 candidates, totalling 216 fits\n"
     ]
    },
    {
     "data": {
      "text/plain": [
       "{'max_depth': 80,\n",
       " 'max_features': 3,\n",
       " 'min_samples_leaf': 3,\n",
       " 'min_samples_split': 8,\n",
       " 'n_estimators': 200}"
      ]
     },
     "execution_count": 41,
     "metadata": {},
     "output_type": "execute_result"
    }
   ],
   "source": [
    "# Fit the grid search to the data\n",
    "\n",
    "grid_search.fit(X_train, y_train)\n",
    "grid_search.best_params_"
   ]
  },
  {
   "cell_type": "code",
   "execution_count": 42,
   "id": "b7fe5e65",
   "metadata": {},
   "outputs": [
    {
     "name": "stdout",
     "output_type": "stream",
     "text": [
      "Applying K fold cv algorithm for : DT\n",
      "iter  1\n",
      "Shape of training training_columns:  (80673, 13)\n",
      "Shape of test training_columns:  (8964, 13)\n",
      "iter  2\n",
      "Shape of training training_columns:  (80673, 13)\n",
      "Shape of test training_columns:  (8964, 13)\n",
      "iter  3\n",
      "Shape of training training_columns:  (80673, 13)\n",
      "Shape of test training_columns:  (8964, 13)\n",
      "iter  4\n",
      "Shape of training training_columns:  (80673, 13)\n",
      "Shape of test training_columns:  (8964, 13)\n",
      "iter  5\n",
      "Shape of training training_columns:  (80673, 13)\n",
      "Shape of test training_columns:  (8964, 13)\n",
      "iter  6\n",
      "Shape of training training_columns:  (80673, 13)\n",
      "Shape of test training_columns:  (8964, 13)\n",
      "iter  7\n",
      "Shape of training training_columns:  (80673, 13)\n",
      "Shape of test training_columns:  (8964, 13)\n",
      "iter  8\n",
      "Shape of training training_columns:  (80674, 13)\n",
      "Shape of test training_columns:  (8963, 13)\n",
      "iter  9\n",
      "Shape of training training_columns:  (80674, 13)\n",
      "Shape of test training_columns:  (8963, 13)\n",
      "iter  10\n",
      "Shape of training training_columns:  (80674, 13)\n",
      "Shape of test training_columns:  (8963, 13)\n",
      "List of k-fold  accs for DT:  [0.7957385095939313, 0.7916108879964302, 0.8022088353413654, 0.7989736724676484, 0.8032128514056225, 0.8005354752342704, 0.7986390004462294, 0.7999553720852394, 0.7919223474283165, 0.7978355461341069]\n",
      "\n",
      "Average k-fold  acc for DT:  0.798063249813316\n",
      "\n",
      "Best k-fold  acc for DT:  0.8032128514056225\n",
      "roc_auc_score\n",
      "0.5\n"
     ]
    }
   ],
   "source": [
    "clf = DecisionTreeClassifier(max_depth=None, max_leaf_nodes=None, min_impurity_decrease=0.1) # DT Model\n",
    "DT_mean_accuracy, max_acc_data_train, max_acc_data_test, max_acc_targets_train, max_acc_targets_test,dt_scores = k_fold_cross_validation(X_train, y_train, clf, \"DT\") # cross-validation\n",
    "evaluate(max_acc_data_train, max_acc_data_test, max_acc_targets_train, max_acc_targets_test, y_train, clf) #  confusion matrix"
   ]
  },
  {
   "cell_type": "code",
   "execution_count": 43,
   "id": "791a8b17",
   "metadata": {},
   "outputs": [
    {
     "data": {
      "image/png": "[encoded data removed]",
      "text/plain": [
       "<Figure size 432x288 with 1 Axes>"
      ]
     },
     "metadata": {
      "needs_background": "light"
     },
     "output_type": "display_data"
    }
   ],
   "source": [
    "# Plot to compare accuracy\n",
    "\n",
    "plt.plot(dt_scores,color='r',label=\"Decision Tree\")\n",
    "plt.legend(loc=\"best\")\n",
    "\n",
    "plt.title(\"Accuracy accross each fold\") ## Setting subtitle of fig 1\n",
    "plt.xlabel(\"Folds\") ## Setting x-label of fig 1\n",
    "plt.ylabel(\"Accuracy\"); ## Setting y-label of fig 1"
   ]
  },
  {
   "cell_type": "code",
   "execution_count": 44,
   "id": "bb91a753",
   "metadata": {},
   "outputs": [
    {
     "name": "stdout",
     "output_type": "stream",
     "text": [
      "Applying K fold cv algorithm for : RF\n",
      "iter  1\n",
      "Shape of training training_columns:  (80673, 13)\n",
      "Shape of test training_columns:  (8964, 13)\n",
      "iter  2\n",
      "Shape of training training_columns:  (80673, 13)\n",
      "Shape of test training_columns:  (8964, 13)\n",
      "iter  3\n",
      "Shape of training training_columns:  (80673, 13)\n",
      "Shape of test training_columns:  (8964, 13)\n",
      "iter  4\n",
      "Shape of training training_columns:  (80673, 13)\n",
      "Shape of test training_columns:  (8964, 13)\n",
      "iter  5\n",
      "Shape of training training_columns:  (80673, 13)\n",
      "Shape of test training_columns:  (8964, 13)\n",
      "iter  6\n",
      "Shape of training training_columns:  (80673, 13)\n",
      "Shape of test training_columns:  (8964, 13)\n",
      "iter  7\n",
      "Shape of training training_columns:  (80673, 13)\n",
      "Shape of test training_columns:  (8964, 13)\n",
      "iter  8\n",
      "Shape of training training_columns:  (80674, 13)\n",
      "Shape of test training_columns:  (8963, 13)\n",
      "iter  9\n",
      "Shape of training training_columns:  (80674, 13)\n",
      "Shape of test training_columns:  (8963, 13)\n",
      "iter  10\n",
      "Shape of training training_columns:  (80674, 13)\n",
      "Shape of test training_columns:  (8963, 13)\n",
      "List of k-fold  accs for RF:  [0.7962962962962963, 0.8076751450245426, 0.7994199018295404, 0.7960731816153503, 0.8024319500223115, 0.8082329317269076, 0.8014279339580545, 0.8075421175945554, 0.8020751980363717, 0.8069842686600469]\n",
      "\n",
      "Average k-fold  acc for RF:  0.8028158924763977\n",
      "\n",
      "Best k-fold  acc for RF:  0.8082329317269076\n",
      "roc_auc_score\n",
      "0.533330309551813\n"
     ]
    }
   ],
   "source": [
    "clf = RandomForestClassifier(max_depth=80,\n",
    " max_features=3,\n",
    " min_samples_leaf=3,\n",
    " min_samples_split=10,\n",
    " n_estimators=100) # DT Model\n",
    "DT_mean_accuracy, max_acc_data_train, max_acc_data_test, max_acc_targets_train, max_acc_targets_test,dt_scores = k_fold_cross_validation(X_train, y_train, clf, \"RF\") # cross-validation\n",
    "evaluate(max_acc_data_train, max_acc_data_test, max_acc_targets_train, max_acc_targets_test, y_train, clf) #  confusion matrix"
   ]
  },
  {
   "cell_type": "code",
   "execution_count": 45,
   "id": "48fa947b",
   "metadata": {},
   "outputs": [
    {
     "data": {
      "image/png": "[encoded data removed]",
      "text/plain": [
       "<Figure size 432x288 with 1 Axes>"
      ]
     },
     "metadata": {
      "needs_background": "light"
     },
     "output_type": "display_data"
    }
   ],
   "source": [
    "# Plot to compare accuracy\n",
    "\n",
    "plt.plot(dt_scores,color='r',label=\"Random Forest\")\n",
    "plt.legend(loc=\"best\")\n",
    "\n",
    "plt.title(\"Accuracy accross each fold\") ## Setting subtitle of fig 1\n",
    "plt.xlabel(\"Folds\") ## Setting x-label of fig 1\n",
    "plt.ylabel(\"Accuracy\"); ## Setting y-label of fig 1"
   ]
  },
  {
   "cell_type": "markdown",
   "id": "f9e12b71",
   "metadata": {},
   "source": [
    "**Estimated performance for the tuned classifiers**\n",
    "\n",
    "| Classifier | AUC score | Accuracy |\n",
    "| --- | --- | --- |\n",
    "| RF | .52 | .80 |\n",
    "| DT | .5 | .80 |\n"
   ]
  },
  {
   "cell_type": "code",
   "execution_count": 46,
   "id": "89ec9221",
   "metadata": {},
   "outputs": [],
   "source": [
    "# Implement gradient descent for a linear svm\n",
    "\n",
    "class svc:\n",
    "    def __init__(self , C = 0.01 , number_of_iterations = 100 , learning_rate = 0.1):\n",
    " \n",
    "        self.c = C\n",
    "        self.iteration = number_of_iterations\n",
    "        self.lr = learning_rate\n",
    "            \n",
    "    def fit(self , x , y):\n",
    "        self.x = x\n",
    "        self.y = y\n",
    "        \n",
    "        w = np.zeros([1 , x.shape[1]])\n",
    "        b = 0\n",
    "        \n",
    "        costs = np.zeros(self.iteration)\n",
    "        for i in range(self.iteration):\n",
    "            cost = x @ w.T + b\n",
    "            b = b - self.lr * self.c * sum(cost - y) \n",
    "            w = w - self.lr * self.c * sum((cost - y)*x) \n",
    "            costs[i] = self.c * sum( (y * cost)  + (1 - y)*cost ) + (1/2)* sum(w.T**2)\n",
    "        \n",
    "        self.w = w\n",
    "        self.b = b \n",
    "        self.costs = costs\n",
    "        \n",
    "    \n",
    "    def predict(self , x_test):\n",
    "        pred_y =  []\n",
    "        svc = x_test @ self.w.T + self.b\n",
    "        for i in svc:\n",
    "            if i >= 0:\n",
    "                pred_y.append(1)\n",
    "            else:\n",
    "                pred_y.append(0)\n",
    "        \n",
    "        return pred_y"
   ]
  },
  {
   "cell_type": "code",
   "execution_count": 47,
   "id": "d10a9b41",
   "metadata": {},
   "outputs": [],
   "source": [
    "clf = svc()\n",
    "\n",
    "clf.fit(X_train.values, y_train.values.reshape([len(y_train) , 1]))"
   ]
  },
  {
   "cell_type": "code",
   "execution_count": 48,
   "id": "0f5e89ac",
   "metadata": {},
   "outputs": [
    {
     "name": "stdout",
     "output_type": "stream",
     "text": [
      "Accuracy for our custom SVM is 0.79806329975345\n"
     ]
    }
   ],
   "source": [
    "preds = clf.predict(X_train.values)\n",
    "print(\"Accuracy for our custom SVM is\",accuracy_score(preds,y_train))"
   ]
  },
  {
   "cell_type": "markdown",
   "id": "11405031",
   "metadata": {},
   "source": [
    "**Performance Comparison:** I get very similar results for the customized implementation."
   ]
  },
  {
   "cell_type": "markdown",
   "id": "63de6378",
   "metadata": {},
   "source": [
    "## Part V: Ensembles and Final Results\n",
    "\n",
    "- I train an AdaBoost classifier and compare its performance to previous models. Finally, I decide to train ensemble models to test whether they could outperform every single model.  "
   ]
  },
  {
   "cell_type": "code",
   "execution_count": 49,
   "id": "9290605b",
   "metadata": {},
   "outputs": [
    {
     "name": "stdout",
     "output_type": "stream",
     "text": [
      "Applying K fold cv algorithm for : AB\n",
      "iter  1\n",
      "Shape of training training_columns:  (80673, 13)\n",
      "Shape of test training_columns:  (8964, 13)\n",
      "iter  2\n",
      "Shape of training training_columns:  (80673, 13)\n",
      "Shape of test training_columns:  (8964, 13)\n",
      "iter  3\n",
      "Shape of training training_columns:  (80673, 13)\n",
      "Shape of test training_columns:  (8964, 13)\n",
      "iter  4\n",
      "Shape of training training_columns:  (80673, 13)\n",
      "Shape of test training_columns:  (8964, 13)\n",
      "iter  5\n",
      "Shape of training training_columns:  (80673, 13)\n",
      "Shape of test training_columns:  (8964, 13)\n",
      "iter  6\n",
      "Shape of training training_columns:  (80673, 13)\n",
      "Shape of test training_columns:  (8964, 13)\n",
      "iter  7\n",
      "Shape of training training_columns:  (80673, 13)\n",
      "Shape of test training_columns:  (8964, 13)\n",
      "iter  8\n",
      "Shape of training training_columns:  (80674, 13)\n",
      "Shape of test training_columns:  (8963, 13)\n",
      "iter  9\n",
      "Shape of training training_columns:  (80674, 13)\n",
      "Shape of test training_columns:  (8963, 13)\n",
      "iter  10\n",
      "Shape of training training_columns:  (80674, 13)\n",
      "Shape of test training_columns:  (8963, 13)\n",
      "List of k-fold  accs for AB:  [0.7878179384203481, 0.7927264614011602, 0.7994199018295404, 0.8028781793842035, 0.7947344935296743, 0.7926149040606872, 0.7984158857652833, 0.7985049648555171, 0.7894678121164789, 0.7853397300011157]\n",
      "\n",
      "Average k-fold  acc for AB:  0.794192027136401\n",
      "\n",
      "Best k-fold  acc for AB:  0.8028781793842035\n",
      "roc_auc_score\n",
      "0.511142174350034\n"
     ]
    }
   ],
   "source": [
    "# Training an AdaBoost classifier\n",
    "\n",
    "clf = AdaBoostClassifier() # AD Model\n",
    "DT_mean_accuracy, max_acc_data_train, max_acc_data_test, max_acc_targets_train, max_acc_targets_test,dt_scores = k_fold_cross_validation(X_train, y_train, clf, \"AB\") # cross-validation\n",
    "evaluate(max_acc_data_train, max_acc_data_test, max_acc_targets_train, max_acc_targets_test, y_train, clf) #  confusion matrix"
   ]
  },
  {
   "cell_type": "code",
   "execution_count": 50,
   "id": "aa19b920",
   "metadata": {},
   "outputs": [
    {
     "data": {
      "image/png": "[encoded data removed]",
      "text/plain": [
       "<Figure size 432x288 with 1 Axes>"
      ]
     },
     "metadata": {
      "needs_background": "light"
     },
     "output_type": "display_data"
    }
   ],
   "source": [
    "# Plot to compare accuracy\n",
    "\n",
    "plt.plot(dt_scores,color='r',label=\" AdaBoostClassifier\")\n",
    "plt.legend(loc=\"best\")\n",
    "\n",
    "plt.title(\"Accuracy accross each fold\") ## Setting subtitle of fig 1\n",
    "plt.xlabel(\"Folds\") ## Setting x-label of fig 1\n",
    "plt.ylabel(\"Accuracy\"); ## Setting y-label of fig 1"
   ]
  },
  {
   "cell_type": "code",
   "execution_count": 51,
   "id": "743d5450",
   "metadata": {},
   "outputs": [],
   "source": [
    "# Blending model\n",
    "\n",
    "def get_classifiers():\n",
    "    \"\"\"Function to add the classifiers that we want to keep in our blending model\"\"\"\n",
    "    classifiers = []\n",
    "    classifiers.append(('lr', LogisticRegression()))\n",
    "    classifiers.append(('cart', DecisionTreeClassifier()))\n",
    "    classifiers.append(('Adb', AdaBoostClassifier()))\n",
    "    classifiers.append(('Rf', RandomForestClassifier()))\n",
    "    return classifiers\n",
    "\n",
    "def fit_blending_model(classifiers, X_train_full, y_train_full):\n",
    "    '''\n",
    "    This function will perform the following steps:\n",
    "    1 Creates a validation set using 20% of the training set\n",
    "    2 Trains each of your chosen classifiers on the training set\n",
    "    3 Using the validation set creates a new dataset where features are predictions made by each of your chosen classifiers\n",
    "    4 Trains a logistic regression classifier to blend the predictions\n",
    "    '''\n",
    "    # split training set into train and validation sets\n",
    "    X_train, X_val, y_train, y_val = train_test_split(X_train_full, y_train_full, test_size=0.2, random_state=1)\n",
    "\n",
    "\n",
    "    # fit all classifiers on the training set and predict on hold out set\n",
    "    new_features = list()\n",
    "    for name, model in classifiers:\n",
    "        # fit in training set\n",
    "        model.fit(X_train, y_train)\n",
    "        # predict on hold out set\n",
    "        y_preds = model.predict(X_val)\n",
    "        # reshape predictions into a matrix with one column\n",
    "        y_preds = y_preds.reshape(len(y_preds), 1)\n",
    "        # store predictions as input for blending\n",
    "        new_features.append(y_preds)\n",
    "    # create 2d array from predictions, each set is an input feature\n",
    "    new_features = hstack(new_features)\n",
    "    # define blending model\n",
    "    clf_blender = LogisticRegression()\n",
    "    # fit on predictions from base classifiers\n",
    "    clf_blender.fit(new_features, y_val)\n",
    "    return clf_blender\n",
    "\n",
    "def prediction_using_blending(classifiers, clf_blender, X_test):\n",
    "    # make predictions with base classifiers\n",
    "    new_features = list()\n",
    "    for name, model in classifiers:\n",
    "        # predict with base clf\n",
    "        y_preds = model.predict(X_test)\n",
    "        y_preds = y_preds.reshape(len(y_preds), 1)\n",
    "        new_features.append(y_preds)\n",
    "    new_features = hstack(new_features)\n",
    "    # predict\n",
    "    return clf_blender.predict(new_features)"
   ]
  },
  {
   "cell_type": "code",
   "execution_count": 53,
   "id": "48ddecb6",
   "metadata": {
    "scrolled": true
   },
   "outputs": [
    {
     "name": "stdout",
     "output_type": "stream",
     "text": [
      "Blending AUC score: 0.537\n",
      "Blending Accuracy: 0.804\n"
     ]
    }
   ],
   "source": [
    "# split dataset into train and test sets\n",
    "X_train_full, X_test, y_train_full, y_test = train_test_split(X_train, y_train, test_size=0.3, random_state=1)\n",
    "\n",
    "# create the base classifiers\n",
    "classifiers = get_classifiers()\n",
    "\n",
    "# train the blending ensemble\n",
    "clf_blender = fit_blending_model(classifiers, X_train_full, y_train_full)\n",
    "\n",
    "# make predictions on test set\n",
    "y_preds = prediction_using_blending(classifiers, clf_blender, X_test)\n",
    "\n",
    "# evaluate predictions\n",
    "score = roc_auc_score(y_test, y_preds)\n",
    "acc = accuracy_score(y_test, y_preds)\n",
    "\n",
    "print('Blending AUC score: %.3f' % (score))\n",
    "print('Blending Accuracy: %.3f' % (acc))"
   ]
  },
  {
   "cell_type": "markdown",
   "id": "5fa83e28",
   "metadata": {},
   "source": [
    "## Conclusion"
   ]
  },
  {
   "cell_type": "markdown",
   "id": "f152bc3f",
   "metadata": {},
   "source": [
    "- Through this analysis, the Decision Tree method yields the highest AUC, while three models (Linear SVC, Random Forest, Blending) have the highest Accuracy. Considering both measurements, it looks like the Resembling model would stand out because of its performance relatively well in both measurements. However, it depends on what matters the most to decide which measurement to be used. The comparison of all models are below: \n",
    "\n",
    "| Classifier | AUC score | Accuracy |\n",
    "| --- | --- | --- |\n",
    "| RF | .5 | .79 |\n",
    "| DT | .51 | .73 |\n",
    "| Linear SVC | .5 | .80 |\n",
    "| Rbf SVC | .5 | .80 |\n",
    "| RF (With tuned parameters) | .56 | .79 |\n",
    "| DT (With tuned parameters) | .60 | .73 |\n",
    "| AdaBoost | .50 | .79 |\n",
    "| Blending | .53 | .80 |\n",
    "\n",
    "- One thing that caused my attention (thanks to zcc33's feedback) is that AUC is close to 0.5 through the models. The weak prediction of AUC is another issue to be investigated and improved in the future.  "
   ]
  },
  {
   "cell_type": "markdown",
   "id": "023b4a4e",
   "metadata": {},
   "source": [
    "## Reflection & Improvement"
   ]
  },
  {
   "cell_type": "markdown",
   "id": "03655a5e",
   "metadata": {},
   "source": [
    "- First, there are still some other methods I want to try, for example, I can combine unsupervised learning and supervised learning to see if it can boost the performance. On the other hand, I can build up some other base models such as using neural networks and then using the ensemble method to build some higher-level stacking model.\n",
    "\n",
    "\n",
    "- Second, the model assessment is based on a binary outcome variable, no-shows. In many situations, outcomes can be much more complicated. So further training would be needed to test scenarios where outcomes are categorical data or continuous data. \n",
    "\n",
    "\n",
    "- Finally, I use static data in this analysis. But in real life, data is accumulating daily. How does changing data impact model performance is yet another topic I'd like to explore in the future. "
   ]
  },
  {
   "cell_type": "code",
   "execution_count": null,
   "id": "c7a87a94",
   "metadata": {},
   "outputs": [],
   "source": []
  }
 ],
 "metadata": {
  "kernelspec": {
   "display_name": "Python 3",
   "language": "python",
   "name": "python3"
  },
  "language_info": {
   "codemirror_mode": {
    "name": "ipython",
    "version": 3
   },
   "file_extension": ".py",
   "mimetype": "text/x-python",
   "name": "python",
   "nbconvert_exporter": "python",
   "pygments_lexer": "ipython3",
   "version": "3.8.8"
  }
 },
 "nbformat": 4,
 "nbformat_minor": 5
}
